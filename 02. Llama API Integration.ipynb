{
 "cells": [
  {
   "cell_type": "code",
   "execution_count": 2,
   "id": "55cc15e3-8a91-43b2-8003-edf25a81d853",
   "metadata": {
    "tags": []
   },
   "outputs": [],
   "source": [
    "import os\n",
    "import sys\n",
    "sys.path.append('../')\n",
    "import json\n",
    "\n",
    "from llamaapi import LlamaAPI\n",
    "import secrets_loc as secrets"
   ]
  },
  {
   "cell_type": "code",
   "execution_count": 3,
   "id": "bd6fffc3-b1d1-4e66-a94a-c452435621f1",
   "metadata": {},
   "outputs": [],
   "source": [
    "api_key = secrets.LLAMA_API_KEY\n",
    "llama = LlamaAPI(api_key)"
   ]
  },
  {
   "cell_type": "code",
   "execution_count": 11,
   "id": "df501375-a64f-4233-a6a6-7b879fd8698d",
   "metadata": {},
   "outputs": [],
   "source": [
    "# Build the Request\n",
    "api_request_json = {\n",
    "  'model': 'llama-13b-chat',\n",
    "  'functions': [\n",
    "      {\n",
    "          \"name\": \"get_flight_info\",\n",
    "          \"description\": \"Get flight information between two locations\",\n",
    "          \"parameters\": {\n",
    "              \"type\": \"object\",\n",
    "              \"properties\": {\n",
    "                  \"loc_origin\": {\n",
    "                      \"type\": \"string\",\n",
    "                      \"description\": \"The departure airport, e.g. DUS\"\n",
    "                  },\n",
    "                  \"loc_destination\": {\n",
    "                      \"type\": \"string\",\n",
    "                      \"description\": \"The destination airport, e.g. HAM\"\n",
    "                  }\n",
    "              },\n",
    "          \"required\": [\"loc_origin\", \"loc_destination\"]\n",
    "          }\n",
    "      }\n",
    "  ],\n",
    "  'function_call': {'name': 'get_flight_info'},\n",
    "  'messages': [\n",
    "      {'role': 'user', 'content': \"When's the next flight from New Delhi to New York?\"}],\n",
    "}"
   ]
  },
  {
   "cell_type": "code",
   "execution_count": 12,
   "id": "1a6f9675-55cc-45da-9320-0f92abf8bdf7",
   "metadata": {},
   "outputs": [],
   "source": [
    "# Execute the Request\n",
    "response = llama.run(api_request_json)\n",
    "# Save the answer\n",
    "output = response.json()['choices'][0]['message']"
   ]
  },
  {
   "cell_type": "code",
   "execution_count": 13,
   "id": "2c4efe2e-c464-44fe-bda9-8f001cb56889",
   "metadata": {},
   "outputs": [
    {
     "data": {
      "text/plain": [
       "{'created': 1716006194,\n",
       " 'model': 'llama-13b-chat',\n",
       " 'usage': {'prompt_tokens': 157, 'completion_tokens': 24, 'total_tokens': 181},\n",
       " 'choices': [{'index': 0,\n",
       "   'message': {'role': 'assistant',\n",
       "    'content': None,\n",
       "    'function_call': {'name': 'get_flight_info<API>get_flight_info',\n",
       "     'arguments': {'loc_origin': 'DEL', 'loc_destination': 'JFK'}}},\n",
       "   'finish_reason': 'function_call'}]}"
      ]
     },
     "execution_count": 13,
     "metadata": {},
     "output_type": "execute_result"
    }
   ],
   "source": [
    "response.json()"
   ]
  },
  {
   "cell_type": "code",
   "execution_count": 14,
   "id": "8ef5d33c-6c63-4076-b9a6-4f73db578e7d",
   "metadata": {},
   "outputs": [
    {
     "name": "stdout",
     "output_type": "stream",
     "text": [
      "{'role': 'assistant', 'content': None, 'function_call': {'name': 'get_flight_info<API>get_flight_info', 'arguments': {'loc_origin': 'DEL', 'loc_destination': 'JFK'}}}\n"
     ]
    }
   ],
   "source": [
    "print(output)"
   ]
  },
  {
   "cell_type": "code",
   "execution_count": null,
   "id": "a3b0dcb2-c96d-4b54-910c-756e0dcda272",
   "metadata": {},
   "outputs": [],
   "source": []
  }
 ],
 "metadata": {
  "kernelspec": {
   "display_name": "Python 3 (ipykernel)",
   "language": "python",
   "name": "python3"
  },
  "language_info": {
   "codemirror_mode": {
    "name": "ipython",
    "version": 3
   },
   "file_extension": ".py",
   "mimetype": "text/x-python",
   "name": "python",
   "nbconvert_exporter": "python",
   "pygments_lexer": "ipython3",
   "version": "3.9.13"
  }
 },
 "nbformat": 4,
 "nbformat_minor": 5
}
